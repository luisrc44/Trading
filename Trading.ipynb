{
 "cells": [
  {
   "cell_type": "markdown",
   "id": "ca4a899d",
   "metadata": {},
   "source": [
    "# 1st Trading Project"
   ]
  },
  {
   "cell_type": "markdown",
   "id": "e6291df6",
   "metadata": {},
   "source": [
    "With the aid of Bagehot's contributions (The Only Game in Town Links to an external site.), and Copeland & Galai's model (Information Effects on the Bid-Ask Spread Links to an external site.) demonstrated how, even without transaction costs, a spread would exist. This led us to maximize the market maker's profit function in terms of a Bid & Ask price."
   ]
  },
  {
   "cell_type": "markdown",
   "id": "1e344802",
   "metadata": {},
   "source": [
    "### Parameters\n",
    "1. **Stock Price Follows a Lognormal Distribution:**\n",
    "   $$\n",
    "   P \\sim \\text{Lognormal}(60, 2.25)\n",
    "   $$\n",
    "   This parameter indicates that the stock price follows a lognormal distribution with a mean of 60 and a variance of $2.25$.\n",
    "\n",
    "2. **Probability of an Informed Trade:**\n",
    "   $$\n",
    "   \\Pi_I = 0.4\n",
    "   $$\n",
    "   Here, $\\Pi_I$ represents the probability that a trade is informed, set at $0.4$ or $40\\%$.\n",
    "\n",
    "3. **Buy Limit Probability ($\\Pi_{LB}$) as a Function of $S$:**\n",
    "   $$\n",
    "   \\Pi_{LB}(S) = 0.5 - 0.08S \\quad \\text{where} \\quad \\Pi_{LB} \\in [0, 0.5], \\quad S = \\left(A - S_0\\right)\n",
    "   $$\n",
    "   This equation defines $\\Pi_{LB}$, the probability of a buy limit, as a linear function of $S$, where $S$ is the difference between the proposed stock price $A$ and the initial stock price $S_0$.\n",
    "\n",
    "4. **Sell Limit Probability ($\\Pi_{LS}$) as a Function of $S$:**\n",
    "   $$\n",
    "   \\Pi_{LS}(S) = 0.5 - 0.08S \\quad \\text{where} \\quad \\Pi_{LS} \\in [0, 0.5], \\quad S = \\left(S_0 - B\\right)\n",
    "   $$\n",
    "   Similar to $\\Pi_{LB}$, this equation defines $\\Pi_{LS}$, the probability of a sell limit, as a linear function of $S$, where $S$ is the difference between the initial stock price $S_0$ and the bid price $B$.\n",
    "\n",
    "5. **Initial Stock Price $S_0$:**\n",
    "   $$\n",
    "   S_0 = 65\n",
    "   $$\n",
    "   Here, $S_0$ is set to 65, indicating the initial stock price before any trades.\n"
   ]
  },
  {
   "cell_type": "markdown",
   "id": "315a8773",
   "metadata": {},
   "source": [
    "Use this wisely:\n",
    "\n",
    "$$\n",
    "\\begin{aligned}\n",
    "& \\max _{K_A, K_B}\\left\\{\\left(1-p_I\\right)\\left[p_{B L}\\left(K_A-S_0\\right)+p_{S L}\\left(S_0-K_B\\right)\\right]\\right. \\\\\n",
    "&\\left.-p_I\\left[\\int_{K_A}^{\\infty}\\left(S-K_A\\right) f(S) d S+\\int_0^{K_B}\\left(K_B-S\\right) f(S) d S\\right]\\right\\} \\geq 0\n",
    "\\end{aligned}\n",
    "$$"
   ]
  },
  {
   "cell_type": "markdown",
   "id": "96baf574",
   "metadata": {},
   "source": [
    "---"
   ]
  },
  {
   "cell_type": "code",
   "execution_count": 4,
   "id": "45c192fe",
   "metadata": {},
   "outputs": [],
   "source": [
    "from sympy import integrate, init_printing as sp\n",
    "from sympy.abc import x as xsp\n",
    "import scipy.stats as st\n",
    "import scipy.optimize as opt\n",
    "import tqdm\n",
    "from scipy.integrate import quad\n",
    "import seaborn as sns\n",
    "import numpy as np\n",
    "import matplotlib.pyplot as plt"
   ]
  },
  {
   "cell_type": "code",
   "execution_count": 7,
   "id": "2a52844c",
   "metadata": {
    "scrolled": true
   },
   "outputs": [
    {
     "name": "stderr",
     "output_type": "stream",
     "text": [
      "/Users/luisrobles/Desktop/anaconda3/lib/python3.11/site-packages/seaborn/_oldcore.py:1119: FutureWarning: use_inf_as_na option is deprecated and will be removed in a future version. Convert inf values to NaN before operating instead.\n",
      "  with pd.option_context('mode.use_inf_as_na', True):\n"
     ]
    },
    {
     "data": {
      "image/png": "[encoded data removed]",
      "text/plain": [
       "<Figure size 1000x600 with 1 Axes>"
      ]
     },
     "metadata": {},
     "output_type": "display_data"
    }
   ],
   "source": [
    "# Parámetros para la distribución Lognormal\n",
    "mu = 60\n",
    "sigma = np.sqrt(2.25)\n",
    "\n",
    "num_simulations = 10000\n",
    "prices = np.random.lognormal(mean=mu, sigma=sigma, size=num_simulations)\n",
    "\n",
    "plt.figure(figsize=(10, 6))\n",
    "sns.histplot(prices, bins=300, kde=True, color='darkblue')\n",
    "plt.title('Share Price Distribution')\n",
    "plt.xlabel('Price')\n",
    "plt.ylabel('Frequency')\n",
    "plt.show()"
   ]
  },
  {
   "cell_type": "code",
   "execution_count": 8,
   "id": "c7d97af9",
   "metadata": {},
   "outputs": [
    {
     "data": {
      "text/plain": [
       "3.614588855988686e+26"
      ]
     },
     "execution_count": 8,
     "metadata": {},
     "output_type": "execute_result"
    }
   ],
   "source": [
    "np.mean(prices)"
   ]
  },
  {
   "cell_type": "code",
   "execution_count": null,
   "id": "4c9ca852",
   "metadata": {},
   "outputs": [],
   "source": []
  },
  {
   "cell_type": "markdown",
   "id": "ad4a0fb7",
   "metadata": {},
   "source": []
  }
 ],
 "metadata": {
  "kernelspec": {
   "display_name": "Python 3 (ipykernel)",
   "language": "python",
   "name": "python3"
  },
  "language_info": {
   "codemirror_mode": {
    "name": "ipython",
    "version": 3
   },
   "file_extension": ".py",
   "mimetype": "text/x-python",
   "name": "python",
   "nbconvert_exporter": "python",
   "pygments_lexer": "ipython3",
   "version": "3.11.4"
  }
 },
 "nbformat": 4,
 "nbformat_minor": 5
}
