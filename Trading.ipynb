{
 "cells": [
  {
   "cell_type": "markdown",
   "id": "ca4a899d",
   "metadata": {},
   "source": [
    "![Portada](https://i.pinimg.com/originals/aa/fc/95/aafc95cf0bc95a02cc263ca63c388c72.jpg)"
   ]
  },
  {
   "cell_type": "markdown",
   "id": "e6291df6",
   "metadata": {},
   "source": [
    "With the aid of Bagehot's contributions (The Only Game in Town Links to an external site.), and Copeland & Galai's model (Information Effects on the Bid-Ask Spread Links to an external site.) demonstrated how, even without transaction costs, a spread would exist. This led us to maximize the market maker's profit function in terms of a Bid & Ask price."
   ]
  },
  {
   "cell_type": "markdown",
   "id": "fe6cc95f",
   "metadata": {},
   "source": [
    "### Parameters\n",
    "\n",
    "1. **Stock Price Follows a Lognormal Distribution:**\n",
    "   - Distribution: $\n",
    "   P \\sim \\text{Lognormal}(60, 2.25)\n",
    "   $\n",
    "   - Parameters: $\\mu = 60$, $\\sigma^2 = 2.25$\n",
    "   - Description: Indicates that the stock price follows a lognormal distribution with a mean of $60$ and a variance of $2.25$.\n",
    "\n",
    "2. **Probability of an Informed Trade:**\n",
    "   - $\\Pi_I = 0.4$\n",
    "   - Description: Represents the probability that a trade is informed, set at $40\\%$.\n",
    "\n",
    "3. **Buy Limit Probability ($\\Pi_{LB}$) as a Function of $S$:**\n",
    "   - $\\Pi_{LB}(S) = 0.5 - 0.08S$\n",
    "   - Constraints: $\\Pi_{LB} \\in [0, 0.5]$\n",
    "   - Description: Defines $\\Pi_{LB}$, the probability of a buy limit, as a linear function of $S$, where $S = (A - S_0)$, $A$ is the proposed stock price, and $S_0$ is the initial stock price.\n",
    "\n",
    "4. **Sell Limit Probability ($\\Pi_{LS}$) as a Function of $S$:**\n",
    "   - $\\Pi_{LS}(S) = 0.5 - 0.08S$\n",
    "   - Constraints: $\\Pi_{LS} \\in [0, 0.5]$\n",
    "   - Description: Defines $\\Pi_{LS}$, the probability of a sell limit, as a linear function of $S$, where $S = (S_0 - B)$, $S_0$ is the initial stock price, and $B$ is the bid price.\n",
    "\n",
    "5. **Initial Stock Price $S_0$:**\n",
    "   - $S_0 = 65$\n",
    "   - Description: Sets the initial stock price at $65$, indicating the price before any trades occur.\n"
   ]
  },
  {
   "cell_type": "markdown",
   "id": "315a8773",
   "metadata": {},
   "source": [
    "Use this wisely:\n",
    "\n",
    "$$\n",
    "\\begin{aligned}\n",
    "& \\max _{K_A, K_B}\\left\\{\\left(1-p_I\\right)\\left[p_{B L}\\left(K_A-S_0\\right)+p_{S L}\\left(S_0-K_B\\right)\\right]\\right. \\\\\n",
    "&\\left.-p_I\\left[\\int_{K_A}^{\\infty}\\left(S-K_A\\right) f(S) d S+\\int_0^{K_B}\\left(K_B-S\\right) f(S) d S\\right]\\right\\} \\geq 0\n",
    "\\end{aligned}\n",
    "$$"
   ]
  },
  {
   "cell_type": "markdown",
   "id": "0dd92014",
   "metadata": {},
   "source": [
    "where: \n",
    "- $( K_A )$: Proposed selling price or \"ask\" price.\n",
    "- $( K_B )$: Proposed buying price or \"bid\" price.\n",
    "- $( p_I )$: Probability of an informed trade (( $Pi_I = 0.4 $)).\n",
    "- $( p_{LB} )$: Buy limit probability as a function of $( S )$ ($( \\Pi_{LB}(S) $)).\n",
    "- $( p_{LS} )$: Sell limit probability as a function of $( S $) ($( \\Pi_{LS}(S) $)).\n",
    "- $( S_0 )$: Initial stock price (65).\n",
    "- $( S )$: Stock price, which follows a lognormal distribution with $( \\mu = 60 )$ and $( \\sigma^2 = 2.25 )$.\n",
    "- $( f(S) )$: The probability density function of the lognormal distribution of stock prices.\n"
   ]
  },
  {
   "cell_type": "markdown",
   "id": "96baf574",
   "metadata": {},
   "source": [
    "---"
   ]
  },
  {
   "cell_type": "markdown",
   "id": "165f9c21",
   "metadata": {},
   "source": [
    "A Jupyter notebook containing:\n",
    "- Plot the price distribution.\n",
    "\n",
    "Create a plot showing:\n",
    "- Expected revenue if all trades are liquidity trades, and $\\Pi_{LB} = \\Pi_{LS} = 0.5$.\n",
    "- Expected revenue if there is a 40% chance that an informed trade will be executed, keep the same liquidity probabilities as the previous point.\n",
    "- Expected revenue considering:\n",
    "  - $\\Pi_I = 0.4$\n",
    "  - $\\Pi_{LB}(S) = 0.5 - 0.08S$ where $\\Pi_{LB}: [0, 0.5]$\n",
    "  - $\\Pi_{LS}(S) = 0.5 - 0.08S$ where $\\Pi_{LS}: [0, 0.5]$\n",
    "\n",
    "Determine the optimal Bid / Ask price using Copeland & Galai's model with the defined parameters.\n"
   ]
  },
  {
   "cell_type": "markdown",
   "id": "ac7d2ae0",
   "metadata": {},
   "source": [
    "---"
   ]
  },
  {
   "cell_type": "code",
   "execution_count": 4,
   "id": "45c192fe",
   "metadata": {},
   "outputs": [],
   "source": [
    "from sympy import integrate, init_printing as sp\n",
    "from sympy.abc import x as xsp\n",
    "import scipy.stats as st\n",
    "import scipy.optimize as opt\n",
    "import tqdm\n",
    "from scipy.integrate import quad\n",
    "import seaborn as sns\n",
    "import numpy as np\n",
    "import matplotlib.pyplot as plt"
   ]
  },
  {
   "cell_type": "markdown",
   "id": "99facc36",
   "metadata": {},
   "source": [
    "### Distribution's price plot"
   ]
  },
  {
   "cell_type": "code",
   "execution_count": 27,
   "id": "cb0a1f92",
   "metadata": {
    "scrolled": false
   },
   "outputs": [
    {
     "name": "stderr",
     "output_type": "stream",
     "text": [
      "/Users/luisrobles/Desktop/anaconda3/lib/python3.11/site-packages/seaborn/_oldcore.py:1119: FutureWarning: use_inf_as_na option is deprecated and will be removed in a future version. Convert inf values to NaN before operating instead.\n",
      "  with pd.option_context('mode.use_inf_as_na', True):\n",
      "/Users/luisrobles/Desktop/anaconda3/lib/python3.11/site-packages/seaborn/_oldcore.py:1119: FutureWarning: use_inf_as_na option is deprecated and will be removed in a future version. Convert inf values to NaN before operating instead.\n",
      "  with pd.option_context('mode.use_inf_as_na', True):\n"
     ]
    },
    {
     "data": {
      "image/png": "[encoded data removed]",
      "text/plain": [
       "<Figure size 1000x600 with 1 Axes>"
      ]
     },
     "metadata": {},
     "output_type": "display_data"
    }
   ],
   "source": [
    "# Parameters for a Lognormal distribution\n",
    "mu = 60\n",
    "sigma = np.sqrt(2.25)\n",
    "\n",
    "num_simulations = 10000\n",
    "prices = np.random.lognormal(mean=mu, sigma=sigma, size=num_simulations)\n",
    "\n",
    "# Establecer el estilo del gráfico\n",
    "sns.set(style=\"dark\")\n",
    "\n",
    "plt.figure(figsize=(10, 6))\n",
    "sns.histplot(prices, bins=300, kde=True, color='darkblue', fill=True, line_kws={'linewidth': 2})\n",
    "plt.title('Share Price Distribution')\n",
    "plt.xlabel('Price')\n",
    "plt.ylabel('Frequency')\n",
    "\n",
    "# Añadir línea de densidad de kernel (KDE)\n",
    "sns.kdeplot(prices, color=\"navy\", linewidth=2, alpha=0.7)\n",
    "\n",
    "plt.show()\n"
   ]
  },
  {
   "cell_type": "markdown",
   "id": "49d5950b",
   "metadata": {},
   "source": [
    "### 1. Expected revenue if all are liquidity trades, and $\\Pi_{LB}=\\Pi_{LS} =0.5$\n",
    "\n",
    "When all trades are liquidity trades with both buy and sell limit probabilities ($\\Pi_{LB}$ and $\\Pi_{LS}$ \t\n",
    " ) set to 0.5, the expected revenue calculation assumes an equal chance (50%) for liquidity transactions to occur at any given ask or bid price, without the influence of informed trades. This scenario simplifies market activity to purely liquidity-driven transactions, where gains from buy and sell orders are adjusted by a fixed probability, disregarding potential losses from price deviations in informed trading.\n",
    "\n"
   ]
  },
  {
   "cell_type": "code",
   "execution_count": 5,
   "id": "a2f8dba5",
   "metadata": {},
   "outputs": [
    {
     "name": "stdout",
     "output_type": "stream",
     "text": [
      "Optimal Ask Price for Liquidity Trades: 1.9716105310985198e+43\n",
      "Optimal Bid Price for Liquidity Trades: 1.1104856911484735e+37\n"
     ]
    },
    {
     "name": "stderr",
     "output_type": "stream",
     "text": [
      "/var/folders/64/fgkl3fks7m33skzrpztqylr00000gn/T/ipykernel_14242/2461503559.py:21: RuntimeWarning: divide by zero encountered in scalar divide\n",
      "  return (Bid - P) * (1 / (P * self.stddev * np.sqrt(2 * np.pi))) * np.exp(-((np.log(P) - self.meanlog)**2 / (2 * self.stddev**2)))\n",
      "/var/folders/64/fgkl3fks7m33skzrpztqylr00000gn/T/ipykernel_14242/2461503559.py:21: RuntimeWarning: invalid value encountered in scalar multiply\n",
      "  return (Bid - P) * (1 / (P * self.stddev * np.sqrt(2 * np.pi))) * np.exp(-((np.log(P) - self.meanlog)**2 / (2 * self.stddev**2)))\n",
      "/var/folders/64/fgkl3fks7m33skzrpztqylr00000gn/T/ipykernel_14242/2461503559.py:21: RuntimeWarning: divide by zero encountered in log\n",
      "  return (Bid - P) * (1 / (P * self.stddev * np.sqrt(2 * np.pi))) * np.exp(-((np.log(P) - self.meanlog)**2 / (2 * self.stddev**2)))\n",
      "/var/folders/64/fgkl3fks7m33skzrpztqylr00000gn/T/ipykernel_14242/2461503559.py:25: IntegrationWarning: Extremely bad integrand behavior occurs at some points of the\n",
      "  integration interval.\n",
      "  Int2, _ = integrate.quad(f2, 0, Bid)\n",
      "/var/folders/64/fgkl3fks7m33skzrpztqylr00000gn/T/ipykernel_14242/2461503559.py:24: IntegrationWarning: The algorithm does not converge.  Roundoff error is detected\n",
      "  in the extrapolation table.  It is assumed that the requested tolerance\n",
      "  cannot be achieved, and that the returned result (if full_output = 1) is \n",
      "  the best which can be obtained.\n",
      "  Int1, _ = integrate.quad(f1, Ask, np.inf)\n",
      "/var/folders/64/fgkl3fks7m33skzrpztqylr00000gn/T/ipykernel_14242/2461503559.py:24: IntegrationWarning: The integral is probably divergent, or slowly convergent.\n",
      "  Int1, _ = integrate.quad(f1, Ask, np.inf)\n",
      "/var/folders/64/fgkl3fks7m33skzrpztqylr00000gn/T/ipykernel_14242/2461503559.py:25: IntegrationWarning: The algorithm does not converge.  Roundoff error is detected\n",
      "  in the extrapolation table.  It is assumed that the requested tolerance\n",
      "  cannot be achieved, and that the returned result (if full_output = 1) is \n",
      "  the best which can be obtained.\n",
      "  Int2, _ = integrate.quad(f2, 0, Bid)\n",
      "/var/folders/64/fgkl3fks7m33skzrpztqylr00000gn/T/ipykernel_14242/2461503559.py:25: IntegrationWarning: The integral is probably divergent, or slowly convergent.\n",
      "  Int2, _ = integrate.quad(f2, 0, Bid)\n"
     ]
    }
   ],
   "source": [
    "import numpy as np\n",
    "from scipy import integrate, optimize\n",
    "\n",
    "class MarketPricing:\n",
    "    def __init__(self, So, stddev, meanlog):\n",
    "        self.So = So  # Initial stock price\n",
    "        self.stddev = stddev  # Standard deviation for the lognormal distribution\n",
    "        self.meanlog = meanlog  # Mean log for the lognormal distribution\n",
    "    \n",
    "    def expected_revenue_liquidity_trades(self, x):\n",
    "        Ask, Bid = x\n",
    "        Spread = Ask - Bid  # Spread between Ask and Bid\n",
    "        P_lb = P_ls = 0.5  # Probabilities for buy limit and sell limit are both 0.5\n",
    "        \n",
    "        # Function for loss due to buying above the ask price\n",
    "        def f1(P):\n",
    "            return (P - Ask) * (1 / (P * self.stddev * np.sqrt(2 * np.pi))) * np.exp(-((np.log(P) - self.meanlog)**2 / (2 * self.stddev**2)))\n",
    "        \n",
    "        # Function for loss due to selling below the bid price\n",
    "        def f2(P):\n",
    "            return (Bid - P) * (1 / (P * self.stddev * np.sqrt(2 * np.pi))) * np.exp(-((np.log(P) - self.meanlog)**2 / (2 * self.stddev**2)))\n",
    "\n",
    "        # Integrate the loss functions over the price ranges\n",
    "        Int1, _ = integrate.quad(f1, Ask, np.inf)\n",
    "        Int2, _ = integrate.quad(f2, 0, Bid)\n",
    "\n",
    "        # Total expected revenue from liquidity trades\n",
    "        U = (Ask - self.So) * P_lb + (self.So - Bid) * P_ls - (Int1 + Int2)\n",
    "\n",
    "        return U  # Revenue is returned directly without negation as we're not minimizing\n",
    "    \n",
    "    def optimize_ask_bid_liquidity(self):\n",
    "        bounds = [(0, None), (0, None)]  # Constraints for Ask and Bid to be positive\n",
    "        constraints = ({'type': 'ineq', 'fun': lambda x: x[0] - x[1]})  # Constraint that Ask must be greater than Bid\n",
    "\n",
    "        # Use scipy.optimize.minimize to find the optimal Ask and Bid prices\n",
    "        result = optimize.minimize(\n",
    "            lambda x: -self.expected_revenue_liquidity_trades(x),  # Negate revenue for minimization\n",
    "            x0=[70, 60],  # Initial values for Ask and Bid\n",
    "            bounds=bounds,\n",
    "            constraints=constraints,\n",
    "            method='SLSQP'  # Optimization method\n",
    "        )\n",
    "        return result.x\n",
    "\n",
    "# Initialize MarketPricing with given parameters\n",
    "stddev = 2.25  # Standard deviation for lognormal distribution\n",
    "meanlog = np.log(60)  # Mean log for lognormal distribution\n",
    "\n",
    "# Create an instance of MarketPricing and optimize for liquidity trades\n",
    "market_pricing = MarketPricing(So, stddev, meanlog)\n",
    "Ask_opt, Bid_opt = market_pricing.optimize_ask_bid_liquidity()\n",
    "\n",
    "print(\"Optimal Ask Price for Liquidity Trades:\", Ask_opt)\n",
    "print(\"Optimal Bid Price for Liquidity Trades:\", Bid_opt)"
   ]
  },
  {
   "cell_type": "code",
   "execution_count": null,
   "id": "ae88e67b",
   "metadata": {},
   "outputs": [],
   "source": []
  },
  {
   "cell_type": "code",
   "execution_count": null,
   "id": "134a9b77",
   "metadata": {},
   "outputs": [],
   "source": []
  },
  {
   "cell_type": "code",
   "execution_count": null,
   "id": "b9a594e2",
   "metadata": {},
   "outputs": [],
   "source": []
  },
  {
   "cell_type": "code",
   "execution_count": null,
   "id": "d9cfed4a",
   "metadata": {},
   "outputs": [],
   "source": []
  },
  {
   "cell_type": "code",
   "execution_count": null,
   "id": "4b8686fd",
   "metadata": {},
   "outputs": [],
   "source": []
  },
  {
   "cell_type": "code",
   "execution_count": 1,
   "id": "632c0344",
   "metadata": {},
   "outputs": [
    {
     "name": "stdout",
     "output_type": "stream",
     "text": [
      "El Ask óptimo es: 66.95011995396433\n",
      "El Bid óptimo es: 59.79421759085969\n"
     ]
    }
   ],
   "source": [
    "import numpy as np\n",
    "from scipy import integrate, optimize\n",
    "\n",
    "class MarketOptimizer:\n",
    "    def __init__(self, So, Prob_Inf, stddev, meanlog, size=100):\n",
    "        self.So = So\n",
    "        self.Prob_Inf = Prob_Inf\n",
    "        self.Prob_Liq = 1 - Prob_Inf\n",
    "        self.stddev = stddev\n",
    "        self.meanlog = meanlog\n",
    "        self.size = size\n",
    "        self.P = np.random.lognormal(meanlog, stddev, size)\n",
    "    \n",
    "    def objective_function(self, Ask, Bid):\n",
    "        S_lb = Ask - self.So  # Profit\n",
    "        S_ls = self.So - Bid  # Loss\n",
    "        P_lb = 0.5 - 0.08 * S_lb\n",
    "        P_ls = 0.5 - 0.08 * S_ls\n",
    "        \n",
    "        def f1(P):\n",
    "            return (P - Ask) * (1 / (P * self.stddev * np.sqrt(2 * np.pi))) * np.exp(-((np.log(P) - self.meanlog)**2 / (2 * self.stddev**2)))\n",
    "        \n",
    "        def f2(P):\n",
    "            return (Bid - P) * (1 / (P * self.stddev * np.sqrt(2 * np.pi))) * np.exp(-((np.log(P) - self.meanlog)**2 / (2 * self.stddev**2)))\n",
    "        \n",
    "        Int1, _ = integrate.quad(f1, Ask, 10 * self.stddev)\n",
    "        Int2, _ = integrate.quad(f2, 0, Bid)\n",
    "        \n",
    "        L = Int1 + Int2\n",
    "        U = (Ask - self.So) * self.Prob_Inf * P_lb + (self.So - Bid) * self.Prob_Liq * P_ls - self.Prob_Inf * L\n",
    "        \n",
    "        return -U  # Negativo para cumplir con la convención de minimize\n",
    "    \n",
    "    def optimize_ask_bid(self):\n",
    "        bounds = [(0, None), (0, None)]  # Restricciones para ask y bid > 0 \n",
    "        constraints = ({'type': 'ineq', 'fun': lambda x: x[0] - x[1]})  # Ask > Bid\n",
    "        \n",
    "        result = optimize.minimize(\n",
    "            lambda x: self.objective_function(x[0], x[1]),\n",
    "            x0=[70, 60],  # Valores iniciales para ask y bid\n",
    "            bounds=bounds,\n",
    "            constraints=constraints,\n",
    "            method='SLSQP'  # Método de optimización\n",
    "        )\n",
    "        return result.x[0], result.x[1]\n",
    "\n",
    "# Uso de la clase MarketOptimizer\n",
    "So = 65\n",
    "Prob_Inf = 0.4\n",
    "stddev = 2.25\n",
    "meanlog = np.log(60)\n",
    "\n",
    "market_optimizer = MarketOptimizer(So, Prob_Inf, stddev, meanlog)\n",
    "Ask_opt, Bid_opt = market_optimizer.optimize_ask_bid()\n",
    "\n",
    "print(\"El Ask óptimo es:\", Ask_opt)\n",
    "print(\"El Bid óptimo es:\", Bid_opt)\n"
   ]
  },
  {
   "cell_type": "code",
   "execution_count": null,
   "id": "27983792",
   "metadata": {},
   "outputs": [],
   "source": []
  },
  {
   "cell_type": "markdown",
   "id": "ad4a0fb7",
   "metadata": {},
   "source": []
  }
 ],
 "metadata": {
  "kernelspec": {
   "display_name": "Python 3 (ipykernel)",
   "language": "python",
   "name": "python3"
  },
  "language_info": {
   "codemirror_mode": {
    "name": "ipython",
    "version": 3
   },
   "file_extension": ".py",
   "mimetype": "text/x-python",
   "name": "python",
   "nbconvert_exporter": "python",
   "pygments_lexer": "ipython3",
   "version": "3.11.4"
  }
 },
 "nbformat": 4,
 "nbformat_minor": 5
}
