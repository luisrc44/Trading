{
 "cells": [
  {
   "cell_type": "markdown",
   "id": "ca4a899d",
   "metadata": {},
   "source": [
    "# 1st Project Trading"
   ]
  },
  {
   "cell_type": "code",
   "execution_count": 1,
   "id": "8009de68",
   "metadata": {},
   "outputs": [],
   "source": [
    "import pandas as pd"
   ]
  },
  {
   "cell_type": "markdown",
   "id": "315a8773",
   "metadata": {},
   "source": [
    "Use this wisely:\n",
    "\n",
    "$$\n",
    "\\begin{aligned}\n",
    "& \\max _{K_A, K_B}\\left\\{\\left(1-p_I\\right)\\left[p_{B L}\\left(K_A-S_0\\right)+p_{S L}\\left(S_0-K_B\\right)\\right]\\right. \\\\\n",
    "&\\left.-p_I\\left[\\int_{K_A}^{\\infty}\\left(S-K_A\\right) f(S) d S+\\int_0^{K_B}\\left(K_B-S\\right) f(S) d S\\right]\\right\\} \\geq 0\n",
    "\\end{aligned}\n",
    "$$"
   ]
  },
  {
   "cell_type": "markdown",
   "id": "7dacf99a",
   "metadata": {},
   "source": []
  }
 ],
 "metadata": {
  "kernelspec": {
   "display_name": "Python 3 (ipykernel)",
   "language": "python",
   "name": "python3"
  },
  "language_info": {
   "codemirror_mode": {
    "name": "ipython",
    "version": 3
   },
   "file_extension": ".py",
   "mimetype": "text/x-python",
   "name": "python",
   "nbconvert_exporter": "python",
   "pygments_lexer": "ipython3",
   "version": "3.11.4"
  }
 },
 "nbformat": 4,
 "nbformat_minor": 5
}
