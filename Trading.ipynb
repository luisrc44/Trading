{
 "cells": [
  {
   "cell_type": "markdown",
   "id": "ca4a899d",
   "metadata": {},
   "source": [
    "![Portada](https://i.pinimg.com/originals/aa/fc/95/aafc95cf0bc95a02cc263ca63c388c72.jpg)"
   ]
  },
  {
   "cell_type": "markdown",
   "id": "e6291df6",
   "metadata": {},
   "source": [
    "With the aid of Bagehot's contributions (The Only Game in Town Links to an external site.), and Copeland & Galai's model (Information Effects on the Bid-Ask Spread Links to an external site.) demonstrated how, even without transaction costs, a spread would exist. This led us to maximize the market maker's profit function in terms of a Bid & Ask price."
   ]
  },
  {
   "cell_type": "markdown",
   "id": "fe6cc95f",
   "metadata": {},
   "source": [
    "### Parameters\n",
    "\n",
    "1. **Stock Price Follows a Lognormal Distribution:**\n",
    "   - Distribution: $\n",
    "   P \\sim \\text{Lognormal}(60, 2.25)\n",
    "   $\n",
    "   - Parameters: $\\mu = 60$, $\\sigma^2 = 2.25$\n",
    "   - Description: Indicates that the stock price follows a lognormal distribution with a mean of $60$ and a variance of $2.25$.\n",
    "\n",
    "2. **Probability of an Informed Trade:**\n",
    "   - $\\Pi_I = 0.4$\n",
    "   - Description: Represents the probability that a trade is informed, set at $40\\%$.\n",
    "\n",
    "3. **Buy Limit Probability ($\\Pi_{LB}$) as a Function of $S$:**\n",
    "   - $\\Pi_{LB}(S) = 0.5 - 0.08S$\n",
    "   - Constraints: $\\Pi_{LB} \\in [0, 0.5]$\n",
    "   - Description: Defines $\\Pi_{LB}$, the probability of a buy limit, as a linear function of $S$, where $S = (A - S_0)$, $A$ is the proposed stock price, and $S_0$ is the initial stock price.\n",
    "\n",
    "4. **Sell Limit Probability ($\\Pi_{LS}$) as a Function of $S$:**\n",
    "   - $\\Pi_{LS}(S) = 0.5 - 0.08S$\n",
    "   - Constraints: $\\Pi_{LS} \\in [0, 0.5]$\n",
    "   - Description: Defines $\\Pi_{LS}$, the probability of a sell limit, as a linear function of $S$, where $S = (S_0 - B)$, $S_0$ is the initial stock price, and $B$ is the bid price.\n",
    "\n",
    "5. **Initial Stock Price $S_0$:**\n",
    "   - $S_0 = 65$\n",
    "   - Description: Sets the initial stock price at $65$, indicating the price before any trades occur.\n"
   ]
  },
  {
   "cell_type": "markdown",
   "id": "315a8773",
   "metadata": {},
   "source": [
    "Use this wisely:\n",
    "\n",
    "$$\n",
    "\\begin{aligned}\n",
    "& \\max _{K_A, K_B}\\left\\{\\left(1-p_I\\right)\\left[p_{B L}\\left(K_A-S_0\\right)+p_{S L}\\left(S_0-K_B\\right)\\right]\\right.\n",
    "\\left.-p_I\\left[\\int_{K_A}^{\\infty}\\left(S-K_A\\right) f(S) d S+\\int_0^{K_B}\\left(K_B-S\\right) f(S) d S\\right]\\right\\} \\geq 0\n",
    "\\end{aligned}\n",
    "$$"
   ]
  },
  {
   "cell_type": "markdown",
   "id": "0dd92014",
   "metadata": {},
   "source": [
    "where: \n",
    "- $( K_A )$: Proposed selling price or \"ask\" price.\n",
    "- $( K_B )$: Proposed buying price or \"bid\" price.\n",
    "- $( p_I )$: Probability of an informed trade (( $Pi_I = 0.4 $)).\n",
    "- $( p_{LB} )$: Buy limit probability as a function of $( S )$ ($( \\Pi_{LB}(S) $)).\n",
    "- $( p_{LS} )$: Sell limit probability as a function of $( S $) ($( \\Pi_{LS}(S) $)).\n",
    "- $( S_0 )$: Initial stock price (65).\n",
    "- $( S )$: Stock price, which follows a lognormal distribution with $( \\mu = 60 )$ and $( \\sigma^2 = 2.25 )$.\n",
    "- $( f(S) )$: The probability density function of the lognormal distribution of stock prices.\n"
   ]
  },
  {
   "cell_type": "markdown",
   "id": "96baf574",
   "metadata": {},
   "source": [
    "---"
   ]
  },
  {
   "cell_type": "markdown",
   "id": "165f9c21",
   "metadata": {},
   "source": [
    "A Jupyter notebook containing:\n",
    "- Plot the price distribution.\n",
    "\n",
    "Create a plot showing:\n",
    "- Expected revenue if all trades are liquidity trades, and $\\Pi_{LB} = \\Pi_{LS} = 0.5$.\n",
    "- Expected revenue if there is a 40% chance that an informed trade will be executed, keep the same liquidity probabilities as the previous point.\n",
    "- Expected revenue considering:\n",
    "  - $\\Pi_I = 0.4$\n",
    "  - $\\Pi_{LB}(S) = 0.5 - 0.08S$ where $\\Pi_{LB}: [0, 0.5]$\n",
    "  - $\\Pi_{LS}(S) = 0.5 - 0.08S$ where $\\Pi_{LS}: [0, 0.5]$\n",
    "\n",
    "Determine the optimal Bid / Ask price using Copeland & Galai's model with the defined parameters.\n"
   ]
  },
  {
   "cell_type": "markdown",
   "id": "ac7d2ae0",
   "metadata": {},
   "source": [
    "---"
   ]
  },
  {
   "cell_type": "code",
   "execution_count": 1,
   "id": "45c192fe",
   "metadata": {},
   "outputs": [],
   "source": [
    "from sympy import integrate, init_printing as sp\n",
    "from sympy.abc import x as xsp\n",
    "import scipy.stats as st\n",
    "import scipy.optimize as opt\n",
    "import tqdm\n",
    "from scipy.integrate import quad\n",
    "import seaborn as sns\n",
    "import numpy as np\n",
    "import matplotlib.pyplot as plt\n",
    "import warnings\n",
    "warnings.filterwarnings('ignore')\n",
    "import numpy as np\n",
    "from scipy.optimize import minimize\n",
    "from scipy.stats import lognorm\n",
    "from scipy.integrate import quad"
   ]
  },
  {
   "cell_type": "markdown",
   "id": "99facc36",
   "metadata": {},
   "source": [
    "### Distribution's price plot"
   ]
  },
  {
   "cell_type": "code",
   "execution_count": null,
   "id": "fedab309",
   "metadata": {},
   "outputs": [],
   "source": []
  },
  {
   "cell_type": "code",
   "execution_count": null,
   "id": "134006e3",
   "metadata": {},
   "outputs": [],
   "source": []
  },
  {
   "cell_type": "code",
   "execution_count": null,
   "id": "3caba866",
   "metadata": {
    "scrolled": false
   },
   "outputs": [],
   "source": [
    "mu = 60\n",
    "sigma = np.sqrt(2.25)\n",
    "scale = np.exp(mu)\n",
    "\n",
    "pi_I = 0.4\n",
    "S_0 = 65\n",
    "\n",
    "def lognorm_pdf(x):\n",
    "    return lognorm.pdf(x, s=sigma, scale=scale)\n",
    "\n",
    "# Funciones para el beneficio de liquidez, ajustadas para el rango [0, 0.5]\n",
    "def pi_LB(K_A):\n",
    "    return max(0, min(0.5, 0.5 - 0.08 * (K_A - S_0)))\n",
    "\n",
    "def pi_LS(K_B):\n",
    "    return max(0, min(0.5, 0.5 - 0.08 * (S_0 - K_B)))\n",
    "\n",
    "def objective_function(K):\n",
    "    K_A, K_B = K  #\n",
    "    income = (1 - pi_I) * (pi_LB(K_A) * (K_A - S_0) + pi_LS(K_B) * (S_0 - K_B))\n",
    "\n",
    " \n",
    "    integral_above_K_A, _ = quad(lambda S: (S - K_A) * lognorm_pdf(S), K_A, np.inf)\n",
    "    integral_below_K_B, _ = quad(lambda S: (K_B - S) * lognorm_pdf(S), 0, K_B)\n",
    "    cost = pi_I * (integral_above_K_A + integral_below_K_B)\n",
    "\n",
    "    \n",
    "    return -(income - cost)\n",
    "\n",
    "\n",
    "K_A_values = np.linspace(S_0, S_0 + 10*sigma, 100)\n",
    "K_B_values = np.linspace(S_0 - 10*sigma, S_0, 100)\n",
    "\n",
    "# Calculamos el beneficio neto para cada combinación de K_A y K_B\n",
    "benefit_surface = np.zeros((len(K_A_values), len(K_B_values)))\n",
    "\n",
    "for i, K_A in enumerate(K_A_values):\n",
    "    for j, K_B in enumerate(K_B_values):\n",
    "        benefit_surface[i, j] = -objective_function([K_A, K_B])  \n",
    "\n",
    "# Gráfico de la superficie del beneficio neto\n",
    "KA_grid, KB_grid = np.meshgrid(K_A_values, K_B_values, indexing='ij')\n",
    "\n",
    "fig = plt.figure(figsize=(10, 8))\n",
    "ax = fig.add_subplot(111, projection='3d')\n",
    "ax.plot_surface(KA_grid, KB_grid, benefit_surface, cmap='viridis')\n",
    "\n",
    "ax.set_xlabel('K_A (Ask Price)')\n",
    "ax.set_ylabel('K_B (Bid Price)')\n",
    "ax.set_zlabel('Net Benefit')\n",
    "ax.set_title('Net Benefit Surface')\n",
    "plt.show()"
   ]
  },
  {
   "cell_type": "code",
   "execution_count": null,
   "id": "144ca455",
   "metadata": {},
   "outputs": [],
   "source": [
    "result = minimize(objective_function, initial_guess, bounds=bounds)\n",
    "bid = result.x[1]  \n",
    "ask = result.x[0]\n",
    "print(f'Resultado de la optimización: revenue esperado de {round(-result.fun, 4)} con un bid de ${round(bid, 2)} y un ask de ${round(ask,2)}')"
   ]
  }
 ],
 "metadata": {
  "kernelspec": {
   "display_name": "Python 3 (ipykernel)",
   "language": "python",
   "name": "python3"
  },
  "language_info": {
   "codemirror_mode": {
    "name": "ipython",
    "version": 3
   },
   "file_extension": ".py",
   "mimetype": "text/x-python",
   "name": "python",
   "nbconvert_exporter": "python",
   "pygments_lexer": "ipython3",
   "version": "3.11.4"
  }
 },
 "nbformat": 4,
 "nbformat_minor": 5
}
