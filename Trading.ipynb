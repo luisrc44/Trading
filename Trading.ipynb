{
 "cells": [
  {
   "cell_type": "markdown",
   "id": "ca4a899d",
   "metadata": {},
   "source": [
    "# 1st Trading Project"
   ]
  },
  {
   "cell_type": "markdown",
   "id": "e6291df6",
   "metadata": {},
   "source": [
    "With the aid of Bagehot's contributions (The Only Game in Town Links to an external site.), and Copeland & Galai's model (Information Effects on the Bid-Ask Spread Links to an external site.) demonstrated how, even without transaction costs, a spread would exist. This led us to maximize the market maker's profit function in terms of a Bid & Ask price."
   ]
  },
  {
   "cell_type": "markdown",
   "id": "1e344802",
   "metadata": {},
   "source": [
    "### parametros\n",
    "1. **Precio de la acción sigue una distribución lognormal:**\n",
    "   $$\n",
    "   P \\sim \\text{Lognormal}(60, 2.25)\n",
    "   $$\n",
    "   Este parámetro indica que el precio de la acción sigue una distribución lognormal con una media de 60 y una varianza de $2.25$.\n",
    "\n",
    "2. **Probabilidad de una operación informada:**\n",
    "   $$\n",
    "   \\Pi_I = 0.4\n",
    "   $$\n",
    "   Aquí, $\\Pi_I$ representa la probabilidad de que una operación sea informada, establecida en $0.4$ o $40\\%$.\n",
    "\n",
    "3. **Probabilidad de límite de compra ($\\Pi_{LB}$) como función de $S$:**\n",
    "   $$\n",
    "   \\Pi_{LB}(S) = 0.5 - 0.08S \\quad \\text{donde} \\quad \\Pi_{LB} \\in [0, 0.5], \\quad S = \\left(A - S_0\\right)\n",
    "   $$\n",
    "   Esta ecuación define $\\Pi_{LB}$, la probabilidad de un límite de compra, como una función lineal de $S$, donde $S$ es la diferencia entre el precio de la acción propuesto $A$ y el precio inicial de la acción $S_0$.\n",
    "\n",
    "4. **Probabilidad de límite de venta ($\\Pi_{LS}$) como función de $S$:**\n",
    "   $$\n",
    "   \\Pi_{LS}(S) = 0.5 - 0.08S \\quad \\text{donde} \\quad \\Pi_{LS} \\in [0, 0.5], \\quad S = \\left(S_0 - B\\right)\n",
    "   $$\n",
    "   Similar a $\\Pi_{LB}$, esta ecuación define $\\Pi_{LS}$, la probabilidad de un límite de venta, como una función lineal de $S$, donde $S$ es la diferencia entre el precio inicial de la acción $S_0$ y el precio de la oferta $B$.\n",
    "\n",
    "5. **Precio inicial de la acción $S_0$:**\n",
    "   $$\n",
    "   S_0 = 65\n",
    "   $$\n",
    "   Aquí, $S_0$ se establece en 65, indicando el precio inicial de la acción antes de cualquier operación.\n"
   ]
  },
  {
   "cell_type": "markdown",
   "id": "315a8773",
   "metadata": {},
   "source": [
    "Use this wisely:\n",
    "\n",
    "$$\n",
    "\\begin{aligned}\n",
    "& \\max _{K_A, K_B}\\left\\{\\left(1-p_I\\right)\\left[p_{B L}\\left(K_A-S_0\\right)+p_{S L}\\left(S_0-K_B\\right)\\right]\\right. \\\\\n",
    "&\\left.-p_I\\left[\\int_{K_A}^{\\infty}\\left(S-K_A\\right) f(S) d S+\\int_0^{K_B}\\left(K_B-S\\right) f(S) d S\\right]\\right\\} \\geq 0\n",
    "\\end{aligned}\n",
    "$$"
   ]
  },
  {
   "cell_type": "markdown",
   "id": "96baf574",
   "metadata": {},
   "source": [
    "---"
   ]
  },
  {
   "cell_type": "code",
   "execution_count": 2,
   "id": "45c192fe",
   "metadata": {},
   "outputs": [],
   "source": [
    "from sympy import integrate, init_printing as sp\n",
    "from sympy.abc import x as xsp\n",
    "import scipy.stats as st\n",
    "import scipy.optimize as opt\n",
    "import tqdm\n",
    "from scipy.integrate import quad\n",
    "import seaborn as sns\n",
    "import numpy as np\n",
    "import matplotlib.pyplot as plt"
   ]
  },
  {
   "cell_type": "code",
   "execution_count": 7,
   "id": "2a52844c",
   "metadata": {},
   "outputs": [
    {
     "data": {
      "image/png": "[encoded data removed]",
      "text/plain": [
       "<Figure size 720x432 with 1 Axes>"
      ]
     },
     "metadata": {
      "needs_background": "light"
     },
     "output_type": "display_data"
    }
   ],
   "source": [
    "# Parámetros para la distribución Lognormal\n",
    "mu = 60\n",
    "sigma = np.sqrt(2.25)\n",
    "\n",
    "num_simulations = 10000\n",
    "prices = np.random.lognormal(mean=mu, sigma=sigma, size=num_simulations)\n",
    "\n",
    "plt.figure(figsize=(10, 6))\n",
    "sns.histplot(prices, bins=300, kde=True, color='blue')\n",
    "plt.title('Distribución de Precios de Acción')\n",
    "plt.xlabel('Precio')\n",
    "plt.ylabel('Frecuencia')\n",
    "plt.show()"
   ]
  },
  {
   "cell_type": "code",
   "execution_count": 8,
   "id": "c7d97af9",
   "metadata": {},
   "outputs": [
    {
     "data": {
      "text/plain": [
       "3.4677437673795664e+26"
      ]
     },
     "execution_count": 8,
     "metadata": {},
     "output_type": "execute_result"
    }
   ],
   "source": [
    "np.mean(prices)"
   ]
  },
  {
   "cell_type": "markdown",
   "id": "ad4a0fb7",
   "metadata": {},
   "source": []
  }
 ],
 "metadata": {
  "kernelspec": {
   "display_name": "Python 3 (ipykernel)",
   "language": "python",
   "name": "python3"
  },
  "language_info": {
   "codemirror_mode": {
    "name": "ipython",
    "version": 3
   },
   "file_extension": ".py",
   "mimetype": "text/x-python",
   "name": "python",
   "nbconvert_exporter": "python",
   "pygments_lexer": "ipython3",
   "version": "3.9.12"
  }
 },
 "nbformat": 4,
 "nbformat_minor": 5
}
